{
 "cells": [
  {
   "attachments": {},
   "cell_type": "markdown",
   "metadata": {},
   "source": [
    "# To Contracept or Not to Contracept"
   ]
  },
  {
   "attachments": {},
   "cell_type": "markdown",
   "metadata": {},
   "source": [
    "Import packeges and py-files"
   ]
  },
  {
   "cell_type": "code",
   "execution_count": 31,
   "metadata": {},
   "outputs": [
    {
     "name": "stdout",
     "output_type": "stream",
     "text": [
      "The autoreload extension is already loaded. To reload it, use:\n",
      "  %reload_ext autoreload\n"
     ]
    }
   ],
   "source": [
    "# a. set magic \n",
    "%load_ext autoreload\n",
    "%autoreload 2\n",
    "\n",
    "# b. packeges \n",
    "import numpy as np\n",
    "import copy\n",
    "\n",
    "# c. import py-files \n",
    "from Model import child_model \n",
    "import Solve as solver\n",
    "import Estimate as estimate"
   ]
  },
  {
   "attachments": {},
   "cell_type": "markdown",
   "metadata": {},
   "source": [
    "## Set up"
   ]
  },
  {
   "attachments": {},
   "cell_type": "markdown",
   "metadata": {},
   "source": [
    "### Read data"
   ]
  },
  {
   "cell_type": "code",
   "execution_count": 32,
   "metadata": {},
   "outputs": [],
   "source": [
    "model = child_model()\n",
    "dta = model.read_data()"
   ]
  },
  {
   "attachments": {},
   "cell_type": "markdown",
   "metadata": {},
   "source": [
    "### State trantision conditional on age and choice from the real data"
   ]
  },
  {
   "cell_type": "code",
   "execution_count": 33,
   "metadata": {},
   "outputs": [],
   "source": [
    "solver.P_list(model, dta)"
   ]
  },
  {
   "attachments": {},
   "cell_type": "markdown",
   "metadata": {},
   "source": [
    "## Show that the estimating works on simulated data"
   ]
  },
  {
   "attachments": {},
   "cell_type": "markdown",
   "metadata": {},
   "source": [
    "### Solve the model and simulate data"
   ]
  },
  {
   "cell_type": "code",
   "execution_count": 4,
   "metadata": {},
   "outputs": [],
   "source": [
    "# a. Solve model \n",
    "V, pnc = solver.BackwardsInduction(model)\n",
    "\n",
    "# b. Simulate data\n",
    "data = model.sim_data(pnc)"
   ]
  },
  {
   "attachments": {},
   "cell_type": "markdown",
   "metadata": {},
   "source": [
    "### Chosen parameters"
   ]
  },
  {
   "cell_type": "code",
   "execution_count": 5,
   "metadata": {},
   "outputs": [
    {
     "name": "stdout",
     "output_type": "stream",
     "text": [
      "0.4 0.8 -0.3\n"
     ]
    }
   ],
   "source": [
    "print(model.mu, model.eta1, model.eta2) # we choose random parameters to check that the estimation works"
   ]
  },
  {
   "attachments": {},
   "cell_type": "markdown",
   "metadata": {},
   "source": [
    "### Estimate parameters from simulated data"
   ]
  },
  {
   "cell_type": "code",
   "execution_count": 6,
   "metadata": {},
   "outputs": [
    {
     "name": "stdout",
     "output_type": "stream",
     "text": [
      "0.4 0.8 -0.29999999999999993\n"
     ]
    }
   ],
   "source": [
    "# a. Initialize parameters \n",
    "samplesize = data.shape[0]\n",
    "par_mu = copy.copy(model.mu)\n",
    "par_eta1 = copy.copy(model.eta1)\n",
    "par_eta2 = copy.copy(model.eta2)\n",
    "\n",
    "# b. Number of gridpoints (must be the same size)\n",
    "I = 10\n",
    "\n",
    "# c. Search grid \n",
    "log_lik = np.nan + np.zeros((I,I,I))\n",
    "mu = np.linspace(0,0.9,I)\n",
    "eta1 = np.linspace(0,0.9,I)\n",
    "eta2 = np.linspace(-0.9,0,I)\n",
    "\n",
    "# d. Loop over all parameter grids \n",
    "for i in range(I):\n",
    "    for j in range(I):\n",
    "        for k in range(I):\n",
    "                # i. Estimate parameters\n",
    "                pnames = ['eta1', 'eta2', 'mu']\n",
    "                theta = np.array([eta1[i], eta2[j], mu[k]])\n",
    "                # ii. Estimate log-likelihood in simulated data\n",
    "                log_lik[i,j,k] = estimate.ll(theta, model, solver, data, pnames)\n",
    "\n",
    "# e. Log-likelihood \n",
    "log_lik *= samplesize*(-1)\n",
    "\n",
    "# f. Re-inset the true parameters \n",
    "model.eta1 = copy.copy(par_eta1)\n",
    "model.eta2 = copy.copy(par_eta2)\n",
    "model.mu = copy.copy(par_mu)\n",
    "\n",
    "# g. Find the maximum log-likelihood\n",
    "x, y, z = np.unravel_index(np.argmax(log_lik), log_lik.shape)\n",
    "\n",
    "# h. Print results\n",
    "print(mu[z], eta1[x], eta2[y])"
   ]
  },
  {
   "attachments": {},
   "cell_type": "markdown",
   "metadata": {},
   "source": [
    "## Estimate parameters on real-life data"
   ]
  },
  {
   "cell_type": "code",
   "execution_count": 8,
   "metadata": {},
   "outputs": [
    {
     "name": "stdout",
     "output_type": "stream",
     "text": [
      "0.6153846153846154 -0.1282051282051282 1.205128205128205\n"
     ]
    }
   ],
   "source": [
    "# a. Initialize parameters \n",
    "samplesize = dta.shape[0]\n",
    "par_mu = copy.copy(model.mu)\n",
    "par_eta1 = copy.copy(model.eta1)\n",
    "par_eta2 = copy.copy(model.eta2)\n",
    "\n",
    "# b. Number of gridpoints\n",
    "I = 40\n",
    "\n",
    "# c. Search grid  \n",
    "log_lik = np.nan + np.zeros((I,I,I))\n",
    "mu = np.linspace(1,2,I) # bounds of the grid is chosen carefully after many run throughs of different bounds\n",
    "eta1 = np.linspace(0,1, I) \n",
    "eta2 = np.linspace(-1,0,I)\n",
    "\n",
    "# d. Loop over all parameter grids \n",
    "for i in range(I):\n",
    "    for j in range(I):\n",
    "        for k in range(I):\n",
    "                \n",
    "                # i. Estimate parameters\n",
    "                pnames = ['eta1', 'eta2', 'mu']\n",
    "                theta = np.array([eta1[i], eta2[j], mu[k]])\n",
    "                # ii. Estimate log-likelihood in real data\n",
    "                log_lik[i,j,k] = estimate.ll(theta, model, solver, dta, pnames)\n",
    "\n",
    "# e. Log-likelihood \n",
    "log_lik *= samplesize*(-1)\n",
    "\n",
    "# f. Re-inset the true parameters \n",
    "model.eta1 = copy.copy(par_eta1)\n",
    "model.eta2 = copy.copy(par_eta2)\n",
    "model.mu = copy.copy(par_mu)\n",
    "\n",
    "# g. Find the maximum log-likelihood\n",
    "x, y, z = np.unravel_index(np.argmax(log_lik), log_lik.shape)\n",
    "\n",
    "# h. Print results\n",
    "print(eta1[x], eta2[y], mu[z])"
   ]
  },
  {
   "attachments": {},
   "cell_type": "markdown",
   "metadata": {},
   "source": [
    "### Update parameters"
   ]
  },
  {
   "cell_type": "code",
   "execution_count": 10,
   "metadata": {},
   "outputs": [],
   "source": [
    "model.mu = mu[z]\n",
    "model.eta1 = eta1[x]\n",
    "model.eta2 = eta2[y]"
   ]
  },
  {
   "attachments": {},
   "cell_type": "markdown",
   "metadata": {},
   "source": [
    "### Solve the model and simulate data with true parameters"
   ]
  },
  {
   "cell_type": "code",
   "execution_count": 12,
   "metadata": {},
   "outputs": [],
   "source": [
    "# a. Solve model\n",
    "V, pnc = solver.BackwardsInduction(model)\n",
    "\n",
    "# b. Simulate data\n",
    "data = model.sim_data(pnc)"
   ]
  },
  {
   "attachments": {},
   "cell_type": "markdown",
   "metadata": {},
   "source": [
    "### Distribution of children"
   ]
  },
  {
   "cell_type": "code",
   "execution_count": 13,
   "metadata": {},
   "outputs": [
    {
     "data": {
      "text/plain": [
       "2    32.641921\n",
       "3    32.168850\n",
       "4    22.525473\n",
       "1    11.681223\n",
       "0     0.982533\n",
       "Name: x, dtype: float64"
      ]
     },
     "execution_count": 13,
     "metadata": {},
     "output_type": "execute_result"
    }
   ],
   "source": [
    "# a. Data in last period \n",
    "data0 = data[(data['t']==model.T-1)]\n",
    "\n",
    "# b. Share of children \n",
    "data0.x.value_counts()/model.N*100"
   ]
  },
  {
   "attachments": {},
   "cell_type": "markdown",
   "metadata": {},
   "source": [
    "### Choice probabilities"
   ]
  },
  {
   "cell_type": "code",
   "execution_count": 14,
   "metadata": {},
   "outputs": [
    {
     "name": "stdout",
     "output_type": "stream",
     "text": [
      "[[0.359 0.437 0.388 0.401 0.41  0.471 0.438 0.469 0.491 0.474 0.502 0.513\n",
      "  0.502 0.462 0.448 0.448 0.414 0.4   0.323 0.295 0.271 0.282 0.249 0.264\n",
      "  0.242 0.242 1.   ]\n",
      " [0.254 0.272 0.265 0.269 0.273 0.29  0.284 0.295 0.305 0.303 0.314 0.322\n",
      "  0.322 0.312 0.31  0.313 0.303 0.3   0.27  0.259 0.249 0.254 0.239 0.246\n",
      "  0.236 0.236 1.   ]\n",
      " [0.185 0.168 0.181 0.178 0.176 0.166 0.175 0.171 0.171 0.177 0.177 0.181\n",
      "  0.187 0.197 0.202 0.206 0.212 0.216 0.223 0.226 0.228 0.227 0.229 0.229\n",
      "  0.23  0.23  1.   ]\n",
      " [0.169 0.143 0.158 0.153 0.149 0.131 0.141 0.132 0.127 0.133 0.127 0.126\n",
      "  0.131 0.142 0.146 0.147 0.157 0.161 0.187 0.199 0.209 0.204 0.22  0.213\n",
      "  0.224 0.224 1.   ]\n",
      " [0.231 0.231 0.231 0.231 0.231 0.231 0.231 0.231 0.231 0.231 0.231 0.231\n",
      "  0.231 0.231 0.231 0.231 0.231 0.231 0.231 0.231 0.231 0.231 0.231 0.231\n",
      "  0.231 0.231 1.   ]]\n"
     ]
    }
   ],
   "source": [
    "print(pnc)"
   ]
  },
  {
   "attachments": {},
   "cell_type": "markdown",
   "metadata": {},
   "source": [
    "## Counter factuals"
   ]
  },
  {
   "attachments": {},
   "cell_type": "markdown",
   "metadata": {},
   "source": [
    "### Perfect contraceptive use"
   ]
  },
  {
   "cell_type": "code",
   "execution_count": 15,
   "metadata": {},
   "outputs": [],
   "source": [
    "# a. Perfect contraceptive use \n",
    "model.p2_list = np.ones([model.T,2])*np.array([1, 0])\n",
    "\n",
    "# b. Solve model\n",
    "V_cf, pnc_cf = solver.BackwardsInduction(model)\n",
    "\n",
    "# c. Simulate data\n",
    "data_cf = model.sim_data(pnc_cf)"
   ]
  },
  {
   "attachments": {},
   "cell_type": "markdown",
   "metadata": {},
   "source": [
    "### Distrubution of children"
   ]
  },
  {
   "cell_type": "code",
   "execution_count": 16,
   "metadata": {},
   "outputs": [
    {
     "data": {
      "text/plain": [
       "2    39.192140\n",
       "3    32.350801\n",
       "1    15.720524\n",
       "4    11.499272\n",
       "0     1.237263\n",
       "Name: x, dtype: float64"
      ]
     },
     "execution_count": 16,
     "metadata": {},
     "output_type": "execute_result"
    }
   ],
   "source": [
    "# a. Data in last period\n",
    "data_cf0 = data_cf[(data_cf['t']==model.T-1)]\n",
    "\n",
    "# b. Share of children\n",
    "data_cf0.x.value_counts()/model.N*100"
   ]
  },
  {
   "attachments": {},
   "cell_type": "markdown",
   "metadata": {},
   "source": [
    "### Choice probabilities"
   ]
  },
  {
   "cell_type": "code",
   "execution_count": 17,
   "metadata": {},
   "outputs": [
    {
     "name": "stdout",
     "output_type": "stream",
     "text": [
      "[[0.471 0.521 0.45  0.45  0.46  0.521 0.474 0.507 0.528 0.508 0.53  0.547\n",
      "  0.53  0.491 0.471 0.474 0.439 0.413 0.335 0.307 0.276 0.286 0.253 0.264\n",
      "  0.242 0.242 1.   ]\n",
      " [0.299 0.314 0.295 0.295 0.299 0.319 0.306 0.319 0.328 0.324 0.334 0.344\n",
      "  0.34  0.329 0.323 0.327 0.315 0.306 0.276 0.264 0.251 0.256 0.241 0.246\n",
      "  0.236 0.236 1.   ]\n",
      " [0.168 0.162 0.175 0.175 0.174 0.166 0.175 0.172 0.173 0.179 0.181 0.184\n",
      "  0.191 0.199 0.204 0.207 0.213 0.217 0.223 0.225 0.228 0.227 0.229 0.229\n",
      "  0.23  0.23  1.   ]\n",
      " [0.121 0.108 0.129 0.128 0.125 0.109 0.123 0.115 0.111 0.118 0.114 0.113\n",
      "  0.12  0.131 0.137 0.138 0.148 0.156 0.182 0.193 0.207 0.202 0.218 0.213\n",
      "  0.224 0.224 1.   ]\n",
      " [0.231 0.231 0.231 0.231 0.231 0.231 0.231 0.231 0.231 0.231 0.231 0.231\n",
      "  0.231 0.231 0.231 0.231 0.231 0.231 0.231 0.231 0.231 0.231 0.231 0.231\n",
      "  0.231 0.231 1.   ]]\n"
     ]
    }
   ],
   "source": [
    "print(pnc_cf)"
   ]
  }
 ],
 "metadata": {
  "kernelspec": {
   "display_name": "base",
   "language": "python",
   "name": "python3"
  },
  "language_info": {
   "codemirror_mode": {
    "name": "ipython",
    "version": 3
   },
   "file_extension": ".py",
   "mimetype": "text/x-python",
   "name": "python",
   "nbconvert_exporter": "python",
   "pygments_lexer": "ipython3",
   "version": "3.9.13"
  },
  "orig_nbformat": 4,
  "vscode": {
   "interpreter": {
    "hash": "32077810f91c82a01173fac87666ad4b066461331ac0e11d6466db2e366e3ab6"
   }
  }
 },
 "nbformat": 4,
 "nbformat_minor": 2
}
