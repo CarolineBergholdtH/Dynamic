{
 "cells": [
  {
   "attachments": {},
   "cell_type": "markdown",
   "metadata": {},
   "source": [
    "# To Contracept or Not to Contracept"
   ]
  },
  {
   "attachments": {},
   "cell_type": "markdown",
   "metadata": {},
   "source": [
    "Import packeges and py-files"
   ]
  },
  {
   "cell_type": "code",
   "execution_count": 10,
   "metadata": {},
   "outputs": [],
   "source": [
    "# a. packeges \n",
    "import numpy as np\n",
    "import matplotlib.pyplot as plt\n",
    "plt.style.use('seaborn-whitegrid')\n",
    "import copy\n",
    "\n",
    "# b. py-files \n",
    "from Model import child_model \n",
    "import Solve as solver\n",
    "import Estimate as estimate"
   ]
  },
  {
   "attachments": {},
   "cell_type": "markdown",
   "metadata": {},
   "source": [
    "## Read data"
   ]
  },
  {
   "cell_type": "code",
   "execution_count": 11,
   "metadata": {},
   "outputs": [],
   "source": [
    "model = child_model()\n",
    "dta = model.read_data()"
   ]
  },
  {
   "attachments": {},
   "cell_type": "markdown",
   "metadata": {},
   "source": [
    "## State trantision contional on age and choice"
   ]
  },
  {
   "cell_type": "code",
   "execution_count": 12,
   "metadata": {},
   "outputs": [
    {
     "ename": "AttributeError",
     "evalue": "module 'Solve' has no attribute 'P_list'",
     "output_type": "error",
     "traceback": [
      "\u001b[0;31m---------------------------------------------------------------------------\u001b[0m",
      "\u001b[0;31mAttributeError\u001b[0m                            Traceback (most recent call last)",
      "\u001b[0;32m/var/folders/_0/__2l_zk5425dbzpq1s84wr8r0000gn/T/ipykernel_13661/1311363798.py\u001b[0m in \u001b[0;36m<module>\u001b[0;34m\u001b[0m\n\u001b[0;32m----> 1\u001b[0;31m \u001b[0msolver\u001b[0m\u001b[0;34m.\u001b[0m\u001b[0mP_list\u001b[0m\u001b[0;34m(\u001b[0m\u001b[0mmodel\u001b[0m\u001b[0;34m,\u001b[0m \u001b[0mdta\u001b[0m\u001b[0;34m)\u001b[0m\u001b[0;34m\u001b[0m\u001b[0;34m\u001b[0m\u001b[0m\n\u001b[0m",
      "\u001b[0;31mAttributeError\u001b[0m: module 'Solve' has no attribute 'P_list'"
     ]
    }
   ],
   "source": [
    "solver.P_list(model, dta)"
   ]
  },
  {
   "attachments": {},
   "cell_type": "markdown",
   "metadata": {},
   "source": [
    "## Estimate"
   ]
  },
  {
   "cell_type": "code",
   "execution_count": null,
   "metadata": {},
   "outputs": [],
   "source": [
    "samplesize = dta.shape[0]\n",
    "par_mu = copy.copy(model.mu)\n",
    "par_eta1 = copy.copy(model.eta1)\n",
    "par_eta2 = copy.copy(model.eta2)\n",
    "\n",
    "I = 50\n",
    "\n",
    "log_lik = np.nan + np.zeros((I,I,I))\n",
    "mu = np.linspace(0,1.8,I)\n",
    "eta1 = np.linspace(0,1.8,I)\n",
    "eta2 = np.linspace(-0.9,0.9,I)\n",
    "iter = 0\n",
    "\n",
    "for i in range(I):\n",
    "    for j in range(I):\n",
    "        for k in range(I):\n",
    "                \n",
    "                # Estimate parameters\n",
    "                pnames = ['eta1', 'eta2', 'mu']\n",
    "                theta = np.array([eta1[i], eta2[j], mu[k]])\n",
    "                log_lik[i,j,k]=estimate.ll(theta, model, solver, dta, pnames)\n",
    "                print(iter)\n",
    "                iter = iter+1\n",
    "\n",
    "log_lik *= samplesize*(-1)\n",
    "\n",
    "# Re-inset the true parameters \n",
    "model.eta1 = copy.copy(par_eta1)\n",
    "model.eta2 = copy.copy(par_eta2)\n",
    "model.mu = copy.copy(par_mu)\n",
    "\n",
    "x, y, z = np.unravel_index(np.argmax(log_lik), log_lik.shape)\n",
    "print(eta1[x], eta2[y], mu[z])"
   ]
  }
 ],
 "metadata": {
  "kernelspec": {
   "display_name": "Python 3",
   "language": "python",
   "name": "python3"
  },
  "language_info": {
   "codemirror_mode": {
    "name": "ipython",
    "version": 3
   },
   "file_extension": ".py",
   "mimetype": "text/x-python",
   "name": "python",
   "nbconvert_exporter": "python",
   "pygments_lexer": "ipython3",
   "version": "3.9.13"
  },
  "orig_nbformat": 4
 },
 "nbformat": 4,
 "nbformat_minor": 2
}
