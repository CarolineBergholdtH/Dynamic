{
 "cells": [
  {
   "attachments": {},
   "cell_type": "markdown",
   "metadata": {},
   "source": [
    "# To Contracept or Not to Contracept"
   ]
  },
  {
   "attachments": {},
   "cell_type": "markdown",
   "metadata": {},
   "source": [
    "Import packeges and py-files"
   ]
  },
  {
   "cell_type": "code",
   "execution_count": 1,
   "metadata": {},
   "outputs": [],
   "source": [
    "# a. set magic \n",
    "%load_ext autoreload\n",
    "%autoreload 2\n",
    "\n",
    "# b. packeges \n",
    "import numpy as np\n",
    "import matplotlib.pyplot as plt\n",
    "plt.style.use('seaborn-whitegrid')\n",
    "import copy\n",
    "\n",
    "# c. import py-files \n",
    "from Model import child_model \n",
    "import Solve as solver\n",
    "import Estimate as estimate"
   ]
  },
  {
   "attachments": {},
   "cell_type": "markdown",
   "metadata": {},
   "source": [
    "## Set up"
   ]
  },
  {
   "attachments": {},
   "cell_type": "markdown",
   "metadata": {},
   "source": [
    "### Read data"
   ]
  },
  {
   "cell_type": "code",
   "execution_count": 2,
   "metadata": {},
   "outputs": [],
   "source": [
    "model = child_model()\n",
    "dta = model.read_data()"
   ]
  },
  {
   "attachments": {},
   "cell_type": "markdown",
   "metadata": {},
   "source": [
    "### State trantision conditional on age and choice from the real data"
   ]
  },
  {
   "cell_type": "code",
   "execution_count": 3,
   "metadata": {},
   "outputs": [],
   "source": [
    "solver.P_list(model, dta)"
   ]
  },
  {
   "attachments": {},
   "cell_type": "markdown",
   "metadata": {},
   "source": [
    "## Show that the estimating works on simulated data"
   ]
  },
  {
   "attachments": {},
   "cell_type": "markdown",
   "metadata": {},
   "source": [
    "### Solve the model and simulate data"
   ]
  },
  {
   "cell_type": "code",
   "execution_count": 4,
   "metadata": {},
   "outputs": [],
   "source": [
    "# a. Solve model \n",
    "V, pnc = solver.BackwardsInduction(model)\n",
    "\n",
    "# b. Simulate data\n",
    "data = model.sim_data(pnc)"
   ]
  },
  {
   "attachments": {},
   "cell_type": "markdown",
   "metadata": {},
   "source": [
    "### Chosen parameters"
   ]
  },
  {
   "cell_type": "code",
   "execution_count": 5,
   "metadata": {},
   "outputs": [
    {
     "name": "stdout",
     "output_type": "stream",
     "text": [
      "0.4 0.8 -0.3\n"
     ]
    }
   ],
   "source": [
    "print(model.mu, model.eta1, model.eta2)"
   ]
  },
  {
   "attachments": {},
   "cell_type": "markdown",
   "metadata": {},
   "source": [
    "### Estimate parameters from simulated data"
   ]
  },
  {
   "cell_type": "code",
   "execution_count": 6,
   "metadata": {},
   "outputs": [
    {
     "name": "stdout",
     "output_type": "stream",
     "text": [
      "0.40408163265306124 0.8816326530612246 -0.31224489795918364\n"
     ]
    }
   ],
   "source": [
    "# a. Initialize parameters \n",
    "samplesize = data.shape[0]\n",
    "par_mu = copy.copy(model.mu)\n",
    "par_eta1 = copy.copy(model.eta1)\n",
    "par_eta2 = copy.copy(model.eta2)\n",
    "\n",
    "# b. Number of gridpoints (must be the same size)\n",
    "I = 50\n",
    "\n",
    "# c. Search grid \n",
    "log_lik = np.nan + np.zeros((I,I,I))\n",
    "mu = np.linspace(0,1.8,I)\n",
    "eta1 = np.linspace(0,1.8,I)\n",
    "eta2 = np.linspace(-0.9,0.9,I)\n",
    "\n",
    "# d. Loop over all parameter grids \n",
    "for i in range(I):\n",
    "    for j in range(I):\n",
    "        for k in range(I):\n",
    "                # i. Estimate parameters\n",
    "                pnames = ['eta1', 'eta2', 'mu']\n",
    "                theta = np.array([eta1[i], eta2[j], mu[k]])\n",
    "                # ii. Estimate log-likelihood in simulated data\n",
    "                log_lik[i,j,k] = estimate.ll(theta, model, solver, data, pnames)\n",
    "\n",
    "# e. Log-likelihood \n",
    "log_lik *= samplesize*(-1)\n",
    "\n",
    "# f. Re-inset the true parameters \n",
    "model.eta1 = copy.copy(par_eta1)\n",
    "model.eta2 = copy.copy(par_eta2)\n",
    "model.mu = copy.copy(par_mu)\n",
    "\n",
    "# g. Find the maximum log-likelihood\n",
    "x, y, z = np.unravel_index(np.argmax(log_lik), log_lik.shape)\n",
    "\n",
    "# h. Print results\n",
    "print(mu[z], eta1[x], eta2[y])"
   ]
  },
  {
   "attachments": {},
   "cell_type": "markdown",
   "metadata": {},
   "source": [
    "## Estimate parameters on real-life data"
   ]
  },
  {
   "cell_type": "code",
   "execution_count": 7,
   "metadata": {},
   "outputs": [
    {
     "name": "stdout",
     "output_type": "stream",
     "text": [
      "0.8081632653061225 0.07346938775510205 0.1653061224489797\n"
     ]
    }
   ],
   "source": [
    "# a. Initialize parameters \n",
    "samplesize = dta.shape[0]\n",
    "par_mu = copy.copy(model.mu)\n",
    "par_eta1 = copy.copy(model.eta1)\n",
    "par_eta2 = copy.copy(model.eta2)\n",
    "\n",
    "# b. Number of gridpoints\n",
    "I = 50\n",
    "\n",
    "# c. Search grid \n",
    "log_lik = np.nan + np.zeros((I,I,I))\n",
    "mu = np.linspace(0,1.8,I)\n",
    "eta1 = np.linspace(0,1.8,I)\n",
    "eta2 = np.linspace(-0.9,0.9,I)\n",
    "\n",
    "# d. Loop over all parameter grids \n",
    "for i in range(I):\n",
    "    for j in range(I):\n",
    "        for k in range(I):\n",
    "                \n",
    "                # i. Estimate parameters\n",
    "                pnames = ['eta1', 'eta2', 'mu']\n",
    "                theta = np.array([eta1[i], eta2[j], mu[k]])\n",
    "                # ii. Estimate log-likelihood in real data\n",
    "                log_lik[i,j,k] = estimate.ll(theta, model, solver, dta, pnames)\n",
    "\n",
    "# e. Log-likelihood \n",
    "log_lik *= samplesize*(-1)\n",
    "\n",
    "# f. Re-inset the true parameters \n",
    "model.eta1 = copy.copy(par_eta1)\n",
    "model.eta2 = copy.copy(par_eta2)\n",
    "model.mu = copy.copy(par_mu)\n",
    "\n",
    "# g. Find the maximum log-likelihood\n",
    "x, y, z = np.unravel_index(np.argmax(log_lik), log_lik.shape)\n",
    "\n",
    "# h. Print results\n",
    "print(mu[z], eta1[x], eta2[y])"
   ]
  },
  {
   "attachments": {},
   "cell_type": "markdown",
   "metadata": {},
   "source": [
    "### Update parameters"
   ]
  },
  {
   "cell_type": "code",
   "execution_count": 8,
   "metadata": {},
   "outputs": [],
   "source": [
    "model.mu = mu[z]\n",
    "model.eta1 = eta1[x]\n",
    "model.eta2 = eta2[y]"
   ]
  },
  {
   "attachments": {},
   "cell_type": "markdown",
   "metadata": {},
   "source": [
    "### Solve the model and simulate data with true parameters"
   ]
  },
  {
   "cell_type": "code",
   "execution_count": 9,
   "metadata": {},
   "outputs": [],
   "source": [
    "# a. Solve model\n",
    "V, pnc = solver.BackwardsInduction(model)\n",
    "\n",
    "# b. Simulate data\n",
    "data = model.sim_data(pnc)"
   ]
  },
  {
   "attachments": {},
   "cell_type": "markdown",
   "metadata": {},
   "source": [
    "### Distribution of children"
   ]
  },
  {
   "cell_type": "code",
   "execution_count": 10,
   "metadata": {},
   "outputs": [
    {
     "data": {
      "text/plain": [
       "2    40.101892\n",
       "3    28.857351\n",
       "1    15.502183\n",
       "4    14.665211\n",
       "0     0.873362\n",
       "Name: x, dtype: float64"
      ]
     },
     "execution_count": 10,
     "metadata": {},
     "output_type": "execute_result"
    }
   ],
   "source": [
    "# a. Data in last period \n",
    "data0 = data[(data['t']==model.T-1)]\n",
    "\n",
    "# b. Share of children \n",
    "data0.x.value_counts()/model.N*100"
   ]
  },
  {
   "attachments": {},
   "cell_type": "markdown",
   "metadata": {},
   "source": [
    "### Choice probabilities"
   ]
  },
  {
   "cell_type": "code",
   "execution_count": 11,
   "metadata": {},
   "outputs": [
    {
     "name": "stdout",
     "output_type": "stream",
     "text": [
      "[[0.338 0.376 0.371 0.383 0.395 0.438 0.429 0.458 0.486 0.487 0.518 0.542\n",
      "  0.543 0.515 0.512 0.514 0.478 0.467 0.395 0.363 0.346 0.351 0.325 0.332\n",
      "  0.316 0.315 1.   ]\n",
      " [0.147 0.113 0.155 0.155 0.162 0.149 0.177 0.18  0.192 0.218 0.232 0.257\n",
      "  0.285 0.31  0.332 0.354 0.364 0.377 0.356 0.346 0.339 0.351 0.328 0.345\n",
      "  0.323 0.325 1.   ]\n",
      " [0.059 0.028 0.053 0.049 0.049 0.034 0.052 0.048 0.051 0.07  0.075 0.09\n",
      "  0.117 0.16  0.19  0.22  0.262 0.294 0.318 0.328 0.333 0.352 0.332 0.357\n",
      "  0.33  0.335 1.   ]\n",
      " [0.064 0.027 0.047 0.041 0.037 0.022 0.034 0.029 0.029 0.04  0.04  0.047\n",
      "  0.064 0.097 0.119 0.142 0.187 0.222 0.279 0.307 0.323 0.349 0.335 0.369\n",
      "  0.337 0.345 1.   ]\n",
      " [0.308 0.308 0.308 0.308 0.308 0.308 0.308 0.308 0.308 0.308 0.308 0.308\n",
      "  0.308 0.308 0.308 0.308 0.308 0.308 0.308 0.308 0.308 0.308 0.308 0.308\n",
      "  0.308 0.308 1.   ]]\n"
     ]
    }
   ],
   "source": [
    "print(pnc)"
   ]
  },
  {
   "attachments": {},
   "cell_type": "markdown",
   "metadata": {},
   "source": [
    "## Counter factuals"
   ]
  },
  {
   "attachments": {},
   "cell_type": "markdown",
   "metadata": {},
   "source": [
    "### Perfect contraceptive use"
   ]
  },
  {
   "cell_type": "code",
   "execution_count": 12,
   "metadata": {},
   "outputs": [],
   "source": [
    "# a. Perfect contraceptive use \n",
    "model.p2_list = np.ones([model.T,2])*np.array([1, 0])\n",
    "\n",
    "# b. Solve model\n",
    "V_cf, pnc_cf = solver.BackwardsInduction(model)\n",
    "\n",
    "# c. Simulate data\n",
    "data_cf = model.sim_data(pnc_cf)"
   ]
  },
  {
   "attachments": {},
   "cell_type": "markdown",
   "metadata": {},
   "source": [
    "### Distrubution of children"
   ]
  },
  {
   "cell_type": "code",
   "execution_count": 15,
   "metadata": {},
   "outputs": [
    {
     "name": "stdout",
     "output_type": "stream",
     "text": [
      "2    47.088792\n",
      "3    24.090247\n",
      "1    21.579330\n",
      "4     5.967977\n",
      "0     1.273654\n",
      "Name: x, dtype: float64\n"
     ]
    }
   ],
   "source": [
    "# a. Data in last period\n",
    "data_cf0 = data_cf[(data_cf['t']==model.T-1)]\n",
    "\n",
    "# b. Share of children\n",
    "data_cf0.x.value_counts()/model.N*100"
   ]
  },
  {
   "attachments": {},
   "cell_type": "markdown",
   "metadata": {},
   "source": [
    "### Choice probabilities"
   ]
  },
  {
   "cell_type": "code",
   "execution_count": 14,
   "metadata": {},
   "outputs": [
    {
     "name": "stdout",
     "output_type": "stream",
     "text": [
      "[[0.44  0.474 0.438 0.439 0.447 0.491 0.468 0.496 0.523 0.518 0.544 0.572\n",
      "  0.566 0.54  0.531 0.536 0.499 0.477 0.405 0.374 0.348 0.354 0.326 0.332\n",
      "  0.316 0.315 1.   ]\n",
      " [0.151 0.139 0.172 0.177 0.179 0.168 0.194 0.197 0.208 0.231 0.247 0.269\n",
      "  0.296 0.319 0.339 0.362 0.372 0.382 0.361 0.353 0.342 0.354 0.33  0.345\n",
      "  0.323 0.325 1.   ]\n",
      " [0.024 0.018 0.037 0.04  0.039 0.029 0.047 0.045 0.048 0.066 0.074 0.086\n",
      "  0.116 0.155 0.187 0.217 0.259 0.294 0.32  0.332 0.335 0.355 0.334 0.357\n",
      "  0.33  0.335 1.   ]\n",
      " [0.009 0.005 0.015 0.016 0.016 0.009 0.019 0.017 0.017 0.027 0.03  0.035\n",
      "  0.053 0.082 0.107 0.129 0.176 0.218 0.277 0.307 0.325 0.352 0.337 0.369\n",
      "  0.337 0.345 1.   ]\n",
      " [0.308 0.308 0.308 0.308 0.308 0.308 0.308 0.308 0.308 0.308 0.308 0.308\n",
      "  0.308 0.308 0.308 0.308 0.308 0.308 0.308 0.308 0.308 0.308 0.308 0.308\n",
      "  0.308 0.308 1.   ]]\n"
     ]
    }
   ],
   "source": [
    "print(pnc_cf)"
   ]
  }
 ],
 "metadata": {
  "kernelspec": {
   "display_name": "Python 3",
   "language": "python",
   "name": "python3"
  },
  "language_info": {
   "codemirror_mode": {
    "name": "ipython",
    "version": 3
   },
   "file_extension": ".py",
   "mimetype": "text/x-python",
   "name": "python",
   "nbconvert_exporter": "python",
   "pygments_lexer": "ipython3",
   "version": "3.9.13"
  },
  "orig_nbformat": 4
 },
 "nbformat": 4,
 "nbformat_minor": 2
}
